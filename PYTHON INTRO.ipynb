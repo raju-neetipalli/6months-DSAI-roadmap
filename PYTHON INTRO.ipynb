{
 "cells": [
  {
   "cell_type": "markdown",
   "id": "0221fad4-2b8f-47ce-8404-f0ab2601028d",
   "metadata": {
    "editable": true,
    "slideshow": {
     "slide_type": ""
    },
    "tags": []
   },
   "source": [
    "# Introduction to PYTHON\n",
    "-  python is a HIGH LEVEL, INTERPRETED programming language\n",
    "- these are some basic caluculations in python programming"
   ]
  },
  {
   "cell_type": "code",
   "execution_count": 1,
   "id": "68769f62-b9eb-476a-8a92-da759d4e64f0",
   "metadata": {},
   "outputs": [
    {
     "name": "stdout",
     "output_type": "stream",
     "text": [
      "7\n"
     ]
    }
   ],
   "source": [
    "print (5 + 2) #addition"
   ]
  },
  {
   "cell_type": "code",
   "execution_count": 2,
   "id": "324648bb-2fb5-4414-b0fd-aff8b94d9f4e",
   "metadata": {},
   "outputs": [
    {
     "name": "stdout",
     "output_type": "stream",
     "text": [
      "5\n"
     ]
    }
   ],
   "source": [
    "print(10-5) #substraction"
   ]
  },
  {
   "cell_type": "code",
   "execution_count": 3,
   "id": "817a03d5-0366-40ea-a052-24b360fb4d22",
   "metadata": {},
   "outputs": [
    {
     "name": "stdout",
     "output_type": "stream",
     "text": [
      "20\n"
     ]
    }
   ],
   "source": [
    "print(10*2) #multiplication"
   ]
  },
  {
   "cell_type": "code",
   "execution_count": 4,
   "id": "0a463a86-b732-4ad7-bc48-3386317407c3",
   "metadata": {},
   "outputs": [
    {
     "name": "stdout",
     "output_type": "stream",
     "text": [
      "5.0\n"
     ]
    }
   ],
   "source": [
    "print(10/2) #division with float value"
   ]
  },
  {
   "cell_type": "code",
   "execution_count": 5,
   "id": "301a910e-8931-4bee-93c1-22ac7cc40485",
   "metadata": {},
   "outputs": [
    {
     "name": "stdout",
     "output_type": "stream",
     "text": [
      "5\n"
     ]
    }
   ],
   "source": [
    "print (10//2)  #division without float values"
   ]
  },
  {
   "cell_type": "code",
   "execution_count": 6,
   "id": "9fdff145-1750-49d0-9320-ac17dd080f95",
   "metadata": {},
   "outputs": [
    {
     "name": "stdout",
     "output_type": "stream",
     "text": [
      "0\n"
     ]
    }
   ],
   "source": [
    "print(10%2) #modulous"
   ]
  },
  {
   "cell_type": "raw",
   "id": "5481cd2f-67df-42dd-a144-572bd99fb417",
   "metadata": {},
   "source": []
  },
  {
   "cell_type": "markdown",
   "id": "2690afd3-4512-4bc4-817c-fbcbaaf1eee0",
   "metadata": {},
   "source": [
    "# python programming has DATA TYPES\n",
    " - some basic data types we see here\n",
    " - type() is use for know the wich data type it is the value"
   ]
  },
  {
   "cell_type": "code",
   "execution_count": 8,
   "id": "624026fe-ab25-4724-a2cc-52293dad2bd4",
   "metadata": {},
   "outputs": [
    {
     "name": "stdout",
     "output_type": "stream",
     "text": [
      "<class 'int'>\n"
     ]
    }
   ],
   "source": [
    "print(type(10)) #integer (int)"
   ]
  },
  {
   "cell_type": "code",
   "execution_count": 9,
   "id": "3d498bb9-a4ea-4f2e-9552-ceb8b1914849",
   "metadata": {},
   "outputs": [
    {
     "name": "stdout",
     "output_type": "stream",
     "text": [
      "<class 'float'>\n"
     ]
    }
   ],
   "source": [
    "print(type(3.14)) #float"
   ]
  },
  {
   "cell_type": "code",
   "execution_count": 10,
   "id": "d62bc678-9345-4c71-b575-b3ada7b67cb9",
   "metadata": {},
   "outputs": [
    {
     "name": "stdout",
     "output_type": "stream",
     "text": [
      "<class 'complex'>\n"
     ]
    }
   ],
   "source": [
    "print(type(1+2j)) #complex"
   ]
  },
  {
   "cell_type": "code",
   "execution_count": 11,
   "id": "e51d847d-7461-4800-aa19-a5c571359df6",
   "metadata": {},
   "outputs": [
    {
     "name": "stdout",
     "output_type": "stream",
     "text": [
      "<class 'str'>\n"
     ]
    }
   ],
   "source": [
    "print(type(\"raju\")) # we use invited comas for denoting a string \n",
    "                    # here we can use ('', \"\", ''')\n",
    "                    # '' for single line string\n",
    "                    # \"\" this is also for single line \n",
    "                    # ''' ''' this is for multiple line strings"
   ]
  },
  {
   "cell_type": "code",
   "execution_count": 17,
   "id": "d8f82fb5-da18-4c52-bc35-40bdd7f9be38",
   "metadata": {},
   "outputs": [
    {
     "name": "stdout",
     "output_type": "stream",
     "text": [
      "<class 'bool'>\n",
      "<class 'bool'>\n"
     ]
    }
   ],
   "source": [
    "print(type(3==3)) #bool\n",
    "print(type(3>3))  # this is use for know True or False "
   ]
  },
  {
   "cell_type": "code",
   "execution_count": 12,
   "id": "7785e174-edfa-4abb-8f03-f98f404835cd",
   "metadata": {},
   "outputs": [
    {
     "name": "stdout",
     "output_type": "stream",
     "text": [
      "<class 'list'>\n"
     ]
    }
   ],
   "source": [
    "print(type([1,2,3,4,5])) # list \n",
    "                        #[] we use this for create a list "
   ]
  },
  {
   "cell_type": "code",
   "execution_count": 13,
   "id": "91d9eaaf-1963-4e56-a4df-57d237ef8cb6",
   "metadata": {},
   "outputs": [
    {
     "name": "stdout",
     "output_type": "stream",
     "text": [
      "<class 'tuple'>\n"
     ]
    }
   ],
   "source": [
    "print (type ((1,2,3,4,5))) #tuple \n",
    "                           #() used for creating a tuple"
   ]
  },
  {
   "cell_type": "code",
   "execution_count": 15,
   "id": "8f1c6dc9-7298-416c-9666-67a0b167b6e7",
   "metadata": {},
   "outputs": [
    {
     "name": "stdout",
     "output_type": "stream",
     "text": [
      "<class 'set'>\n"
     ]
    }
   ],
   "source": [
    "print(type({1,2,3,4})) # set\n",
    "                       # {} used for creating a set "
   ]
  },
  {
   "cell_type": "code",
   "execution_count": 16,
   "id": "bac2479c-40f5-4afa-a196-ecd12bfd343d",
   "metadata": {},
   "outputs": [
    {
     "name": "stdout",
     "output_type": "stream",
     "text": [
      "<class 'dict'>\n"
     ]
    }
   ],
   "source": [
    "print(type({'name' : 'raju'})) #dictionary (dict)\n",
    "                               # {'':''} used it for create a key and value ({'key': 'value'})"
   ]
  },
  {
   "cell_type": "code",
   "execution_count": null,
   "id": "3c961338-12e2-4e79-82bf-886ba7c21947",
   "metadata": {},
   "outputs": [],
   "source": []
  }
 ],
 "metadata": {
  "kernelspec": {
   "display_name": "Python 3 (ipykernel)",
   "language": "python",
   "name": "python3"
  },
  "language_info": {
   "codemirror_mode": {
    "name": "ipython",
    "version": 3
   },
   "file_extension": ".py",
   "mimetype": "text/x-python",
   "name": "python",
   "nbconvert_exporter": "python",
   "pygments_lexer": "ipython3",
   "version": "3.12.7"
  }
 },
 "nbformat": 4,
 "nbformat_minor": 5
}
