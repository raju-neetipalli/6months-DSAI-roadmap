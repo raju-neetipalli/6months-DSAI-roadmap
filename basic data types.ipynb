{
 "cells": [
  {
   "cell_type": "markdown",
   "id": "e5cb13f0-eca7-41ac-8096-0b1e0d1bfa2e",
   "metadata": {},
   "source": [
    "# Simple Numbers "
   ]
  },
  {
   "cell_type": "code",
   "execution_count": 1,
   "id": "d360bf08-39e6-476d-a61a-2ed718f0641e",
   "metadata": {},
   "outputs": [
    {
     "data": {
      "text/plain": [
       "5"
      ]
     },
     "execution_count": 1,
     "metadata": {},
     "output_type": "execute_result"
    }
   ],
   "source": [
    "5"
   ]
  },
  {
   "cell_type": "code",
   "execution_count": 2,
   "id": "3cfe6e3e-f7d0-4dde-9cdd-337eec989bad",
   "metadata": {},
   "outputs": [
    {
     "data": {
      "text/plain": [
       "10"
      ]
     },
     "execution_count": 2,
     "metadata": {},
     "output_type": "execute_result"
    }
   ],
   "source": [
    "5+5 # addition operation"
   ]
  },
  {
   "cell_type": "code",
   "execution_count": 3,
   "id": "edb36134-7f67-45a2-b939-3169e2da9fcd",
   "metadata": {},
   "outputs": [
    {
     "data": {
      "text/plain": [
       "6"
      ]
     },
     "execution_count": 3,
     "metadata": {},
     "output_type": "execute_result"
    }
   ],
   "source": [
    "10-4 # substration operation"
   ]
  },
  {
   "cell_type": "code",
   "execution_count": 4,
   "id": "c39ebd8a-494e-4613-aa01-370a0198d343",
   "metadata": {},
   "outputs": [
    {
     "data": {
      "text/plain": [
       "10"
      ]
     },
     "execution_count": 4,
     "metadata": {},
     "output_type": "execute_result"
    }
   ],
   "source": [
    "2*5 #multiplication operation"
   ]
  },
  {
   "cell_type": "code",
   "execution_count": 5,
   "id": "66d2f086-84ab-4774-9153-beeb11507417",
   "metadata": {},
   "outputs": [
    {
     "data": {
      "text/plain": [
       "5.0"
      ]
     },
     "execution_count": 5,
     "metadata": {},
     "output_type": "execute_result"
    }
   ],
   "source": [
    "10/2 #simple division"
   ]
  },
  {
   "cell_type": "code",
   "execution_count": 6,
   "id": "14233fd2-b560-4e74-b743-4c857843a098",
   "metadata": {},
   "outputs": [
    {
     "data": {
      "text/plain": [
       "5"
      ]
     },
     "execution_count": 6,
     "metadata": {},
     "output_type": "execute_result"
    }
   ],
   "source": [
    "10//2 # floor division  operation"
   ]
  },
  {
   "cell_type": "code",
   "execution_count": 7,
   "id": "4d948a82-010c-434d-8414-4bcc785c516d",
   "metadata": {},
   "outputs": [
    {
     "data": {
      "text/plain": [
       "0"
      ]
     },
     "execution_count": 7,
     "metadata": {},
     "output_type": "execute_result"
    }
   ],
   "source": [
    "10%2 #modulous"
   ]
  },
  {
   "cell_type": "markdown",
   "id": "7b943f74-0467-4f77-9fdf-fdda64b30f6f",
   "metadata": {},
   "source": [
    "# operands(x) and operators(+,-,*,/)\n",
    "- arthmetic\n",
    "- assignment\n",
    "- rational\n",
    "- logical\n",
    "- unary"
   ]
  },
  {
   "cell_type": "code",
   "execution_count": 10,
   "id": "0090d08b-0c37-4e54-847d-07f14139ae69",
   "metadata": {},
   "outputs": [
    {
     "data": {
      "text/plain": [
       "10"
      ]
     },
     "execution_count": 10,
     "metadata": {},
     "output_type": "execute_result"
    }
   ],
   "source": [
    "8+2 "
   ]
  },
  {
   "cell_type": "code",
   "execution_count": 11,
   "id": "0a762f9a-8100-45bc-9e14-e694318934ac",
   "metadata": {},
   "outputs": [
    {
     "data": {
      "text/plain": [
       "5"
      ]
     },
     "execution_count": 11,
     "metadata": {},
     "output_type": "execute_result"
    }
   ],
   "source": [
    "10-5"
   ]
  },
  {
   "cell_type": "code",
   "execution_count": 12,
   "id": "fb57a0c0-157b-486f-aab4-c948208918fb",
   "metadata": {},
   "outputs": [
    {
     "data": {
      "text/plain": [
       "10"
      ]
     },
     "execution_count": 12,
     "metadata": {},
     "output_type": "execute_result"
    }
   ],
   "source": [
    "2*5"
   ]
  },
  {
   "cell_type": "code",
   "execution_count": 13,
   "id": "68baf2b2-adad-43cc-8620-e26ea48f880a",
   "metadata": {},
   "outputs": [
    {
     "data": {
      "text/plain": [
       "5.0"
      ]
     },
     "execution_count": 13,
     "metadata": {},
     "output_type": "execute_result"
    }
   ],
   "source": [
    "10/2"
   ]
  },
  {
   "cell_type": "code",
   "execution_count": 14,
   "id": "b550e157-5e96-491a-b25c-4ff9c3b67ef4",
   "metadata": {},
   "outputs": [
    {
     "data": {
      "text/plain": [
       "5"
      ]
     },
     "execution_count": 14,
     "metadata": {},
     "output_type": "execute_result"
    }
   ],
   "source": [
    "10//2"
   ]
  },
  {
   "cell_type": "code",
   "execution_count": 15,
   "id": "42f4237e-3b96-4c75-995a-a05a5ac84108",
   "metadata": {},
   "outputs": [
    {
     "data": {
      "text/plain": [
       "25"
      ]
     },
     "execution_count": 15,
     "metadata": {},
     "output_type": "execute_result"
    }
   ],
   "source": [
    "5**2 # we use (**) as power "
   ]
  },
  {
   "cell_type": "code",
   "execution_count": 16,
   "id": "10ae5ba5-2925-4d19-84dc-8c52814e13a4",
   "metadata": {},
   "outputs": [
    {
     "ename": "SyntaxError",
     "evalue": "invalid syntax (2229600697.py, line 1)",
     "output_type": "error",
     "traceback": [
      "\u001b[1;36m  Cell \u001b[1;32mIn[16], line 1\u001b[1;36m\u001b[0m\n\u001b[1;33m    5***3\u001b[0m\n\u001b[1;37m       ^\u001b[0m\n\u001b[1;31mSyntaxError\u001b[0m\u001b[1;31m:\u001b[0m invalid syntax\n"
     ]
    }
   ],
   "source": [
    "5***3"
   ]
  },
  {
   "cell_type": "markdown",
   "id": "b6591251-2bcb-458f-bf4e-05312459e27c",
   "metadata": {},
   "source": [
    "# Assignment operator"
   ]
  },
  {
   "cell_type": "code",
   "execution_count": 30,
   "id": "664f1fcf-a7ff-4c4a-b094-1dd97da010b0",
   "metadata": {},
   "outputs": [
    {
     "data": {
      "text/plain": [
       "10"
      ]
     },
     "execution_count": 30,
     "metadata": {},
     "output_type": "execute_result"
    }
   ],
   "source": [
    "x = 10\n",
    "x\n",
    "# x is called variable / identifier / object"
   ]
  },
  {
   "cell_type": "code",
   "execution_count": 31,
   "id": "540c5057-b74d-41f8-8a00-23b0d0a662b8",
   "metadata": {},
   "outputs": [
    {
     "data": {
      "text/plain": [
       "12"
      ]
     },
     "execution_count": 31,
     "metadata": {},
     "output_type": "execute_result"
    }
   ],
   "source": [
    "x +=2\n",
    "x"
   ]
  },
  {
   "cell_type": "code",
   "execution_count": 32,
   "id": "dd0d878e-864d-4e7a-b095-1d589ca9bbdb",
   "metadata": {},
   "outputs": [
    {
     "data": {
      "text/plain": [
       "14"
      ]
     },
     "execution_count": 32,
     "metadata": {},
     "output_type": "execute_result"
    }
   ],
   "source": [
    "x+2"
   ]
  },
  {
   "cell_type": "raw",
   "id": "470d27c9-0996-4a49-b2a1-3d6024322adf",
   "metadata": {},
   "source": [
    " we use  (+=) \n",
    "here we use (x += 2) it was run but not exicuted when we give x then it will be exicuuted "
   ]
  },
  {
   "cell_type": "code",
   "execution_count": 106,
   "id": "c5fc6be6-baaf-4638-80ee-9a2c216eff7b",
   "metadata": {},
   "outputs": [],
   "source": [
    "y = 5"
   ]
  },
  {
   "cell_type": "code",
   "execution_count": 107,
   "id": "a43ab9b2-7b1d-4e7a-b546-667b8e72c26d",
   "metadata": {},
   "outputs": [
    {
     "data": {
      "text/plain": [
       "5"
      ]
     },
     "execution_count": 107,
     "metadata": {},
     "output_type": "execute_result"
    }
   ],
   "source": [
    "y\n"
   ]
  },
  {
   "cell_type": "code",
   "execution_count": 108,
   "id": "3ecffeb5-c341-4548-9b39-a8d1f6b902dd",
   "metadata": {},
   "outputs": [],
   "source": [
    "y += 2 # in this case starting we difine y = 5\n",
    "       # after that y += 2 then it add y(5) with 2\n",
    "       # the final output of y == 7"
   ]
  },
  {
   "cell_type": "code",
   "execution_count": 109,
   "id": "7428f298-37ec-442f-88aa-aee3dacaeb8d",
   "metadata": {},
   "outputs": [
    {
     "data": {
      "text/plain": [
       "7"
      ]
     },
     "execution_count": 109,
     "metadata": {},
     "output_type": "execute_result"
    }
   ],
   "source": [
    "y"
   ]
  },
  {
   "cell_type": "code",
   "execution_count": 110,
   "id": "f3ff3c1a-7e04-4a2e-8f78-115ab2f7a055",
   "metadata": {},
   "outputs": [],
   "source": [
    "y -= 1 # we use - the value directly from y whic is upadated"
   ]
  },
  {
   "cell_type": "code",
   "execution_count": 111,
   "id": "45e7bfbc-ec64-4421-9495-83b65eff5377",
   "metadata": {},
   "outputs": [
    {
     "data": {
      "text/plain": [
       "6"
      ]
     },
     "execution_count": 111,
     "metadata": {},
     "output_type": "execute_result"
    }
   ],
   "source": [
    "y"
   ]
  },
  {
   "cell_type": "code",
   "execution_count": 112,
   "id": "331c9b9c-edb4-4be0-bcb7-496578ca27a2",
   "metadata": {},
   "outputs": [],
   "source": [
    "y *= 2 # we use * the value directly with y whic is upadated"
   ]
  },
  {
   "cell_type": "code",
   "execution_count": 113,
   "id": "f1ad6de6-51a0-4dac-bc67-cbe682754128",
   "metadata": {},
   "outputs": [
    {
     "data": {
      "text/plain": [
       "12"
      ]
     },
     "execution_count": 113,
     "metadata": {},
     "output_type": "execute_result"
    }
   ],
   "source": [
    "y"
   ]
  },
  {
   "cell_type": "code",
   "execution_count": 114,
   "id": "9e3e0f41-7242-4596-8c53-81449ab74313",
   "metadata": {},
   "outputs": [],
   "source": [
    "y /= 6"
   ]
  },
  {
   "cell_type": "code",
   "execution_count": 115,
   "id": "9311490d-7da2-4be2-ad86-01ed07449f44",
   "metadata": {},
   "outputs": [
    {
     "data": {
      "text/plain": [
       "2.0"
      ]
     },
     "execution_count": 115,
     "metadata": {},
     "output_type": "execute_result"
    }
   ],
   "source": [
    "y"
   ]
  },
  {
   "cell_type": "markdown",
   "id": "65c17dc0-9884-4188-9993-274f232dde13",
   "metadata": {},
   "source": [
    "# unary operation"
   ]
  },
  {
   "cell_type": "code",
   "execution_count": 116,
   "id": "d307c069-030c-484d-aec5-c2da62c67e31",
   "metadata": {},
   "outputs": [
    {
     "data": {
      "text/plain": [
       "7"
      ]
     },
     "execution_count": 116,
     "metadata": {},
     "output_type": "execute_result"
    }
   ],
   "source": [
    "n = 7\n",
    "n"
   ]
  },
  {
   "cell_type": "code",
   "execution_count": 117,
   "id": "71831e8c-d5dc-41ea-baa8-2c6453f8b47b",
   "metadata": {},
   "outputs": [
    {
     "data": {
      "text/plain": [
       "-7"
      ]
     },
     "execution_count": 117,
     "metadata": {},
     "output_type": "execute_result"
    }
   ],
   "source": [
    "m = -n\n",
    "m"
   ]
  },
  {
   "cell_type": "markdown",
   "id": "d7457a61-c450-407b-9962-780ae38aca9c",
   "metadata": {},
   "source": [
    "# variable and its valid and invalid declaration"
   ]
  },
  {
   "cell_type": "code",
   "execution_count": 118,
   "id": "b5f91ab8-e687-475c-874c-1fffe720ce14",
   "metadata": {},
   "outputs": [
    {
     "name": "stderr",
     "output_type": "stream",
     "text": [
      "<>:1: SyntaxWarning: invalid decimal literal\n",
      "<>:1: SyntaxWarning: invalid decimal literal\n",
      "C:\\Users\\rajuu\\AppData\\Local\\Temp\\ipykernel_4644\\1947784068.py:1: SyntaxWarning: invalid decimal literal\n",
      "  1int = 6 # dont use numarical values\n"
     ]
    },
    {
     "ename": "SyntaxError",
     "evalue": "invalid syntax (1947784068.py, line 1)",
     "output_type": "error",
     "traceback": [
      "\u001b[1;36m  Cell \u001b[1;32mIn[118], line 1\u001b[1;36m\u001b[0m\n\u001b[1;33m    1int = 6 # dont use numarical values\u001b[0m\n\u001b[1;37m     ^\u001b[0m\n\u001b[1;31mSyntaxError\u001b[0m\u001b[1;31m:\u001b[0m invalid syntax\n"
     ]
    }
   ],
   "source": [
    "1int = 6 # dont use numarical values "
   ]
  },
  {
   "cell_type": "code",
   "execution_count": 120,
   "id": "08752a0e-75be-40d2-955b-52595842cf71",
   "metadata": {},
   "outputs": [
    {
     "ename": "NameError",
     "evalue": "name 'name' is not defined",
     "output_type": "error",
     "traceback": [
      "\u001b[1;31m---------------------------------------------------------------------------\u001b[0m",
      "\u001b[1;31mNameError\u001b[0m                                 Traceback (most recent call last)",
      "Cell \u001b[1;32mIn[120], line 1\u001b[0m\n\u001b[1;32m----> 1\u001b[0m name\n",
      "\u001b[1;31mNameError\u001b[0m: name 'name' is not defined"
     ]
    }
   ],
   "source": [
    "name # only variable cannot without assigning values"
   ]
  },
  {
   "cell_type": "code",
   "execution_count": 122,
   "id": "9aeb44ee-cc4a-4f78-be83-c361df1a4f61",
   "metadata": {},
   "outputs": [
    {
     "ename": "NameError",
     "evalue": "name 'k' is not defined",
     "output_type": "error",
     "traceback": [
      "\u001b[1;31m---------------------------------------------------------------------------\u001b[0m",
      "\u001b[1;31mNameError\u001b[0m                                 Traceback (most recent call last)",
      "Cell \u001b[1;32mIn[122], line 1\u001b[0m\n\u001b[1;32m----> 1\u001b[0m k\n",
      "\u001b[1;31mNameError\u001b[0m: name 'k' is not defined"
     ]
    }
   ],
   "source": [
    "k"
   ]
  },
  {
   "cell_type": "code",
   "execution_count": 124,
   "id": "97354b93-5659-4585-a950-a743b5494c45",
   "metadata": {},
   "outputs": [
    {
     "data": {
      "text/plain": [
       "'test'"
      ]
     },
     "execution_count": 124,
     "metadata": {},
     "output_type": "execute_result"
    }
   ],
   "source": [
    "nit = 'test'\n",
    "nit"
   ]
  },
  {
   "cell_type": "code",
   "execution_count": 125,
   "id": "41c53a8e-4c26-4bc9-a215-df673a89ede9",
   "metadata": {},
   "outputs": [
    {
     "ename": "SyntaxError",
     "evalue": "invalid syntax (3299418981.py, line 1)",
     "output_type": "error",
     "traceback": [
      "\u001b[1;36m  Cell \u001b[1;32mIn[125], line 1\u001b[1;36m\u001b[0m\n\u001b[1;33m    nit$ = 'test' # using spl chars are not valid\u001b[0m\n\u001b[1;37m       ^\u001b[0m\n\u001b[1;31mSyntaxError\u001b[0m\u001b[1;31m:\u001b[0m invalid syntax\n"
     ]
    }
   ],
   "source": [
    "nit$ = 'test' # using spl chars are not valid"
   ]
  },
  {
   "cell_type": "code",
   "execution_count": 126,
   "id": "997d63f7-ebc5-488a-b96b-2aa3c71a3708",
   "metadata": {},
   "outputs": [],
   "source": [
    "test_ = 123 #_ is allowed "
   ]
  },
  {
   "cell_type": "code",
   "execution_count": 128,
   "id": "2b8fa970-fe6b-4173-b9a9-ec707086f539",
   "metadata": {},
   "outputs": [
    {
     "data": {
      "text/plain": [
       "123"
      ]
     },
     "execution_count": 128,
     "metadata": {},
     "output_type": "execute_result"
    }
   ],
   "source": [
    "test_"
   ]
  },
  {
   "cell_type": "code",
   "execution_count": 129,
   "id": "61280e77-036e-466b-a329-45198cbcd13d",
   "metadata": {},
   "outputs": [
    {
     "data": {
      "text/plain": [
       "int"
      ]
     },
     "execution_count": 129,
     "metadata": {},
     "output_type": "execute_result"
    }
   ],
   "source": [
    "type(test_)"
   ]
  },
  {
   "cell_type": "code",
   "execution_count": 130,
   "id": "deb950fd-e98e-4a3e-b8de-367beffc5e62",
   "metadata": {},
   "outputs": [
    {
     "ename": "SyntaxError",
     "evalue": "invalid syntax (3417293369.py, line 1)",
     "output_type": "error",
     "traceback": [
      "\u001b[1;36m  Cell \u001b[1;32mIn[130], line 1\u001b[1;36m\u001b[0m\n\u001b[1;33m    def = 12345 #defined keywords are not allowed\u001b[0m\n\u001b[1;37m        ^\u001b[0m\n\u001b[1;31mSyntaxError\u001b[0m\u001b[1;31m:\u001b[0m invalid syntax\n"
     ]
    }
   ],
   "source": [
    "def = 12345 #defined keywords are not allowed "
   ]
  },
  {
   "cell_type": "code",
   "execution_count": 132,
   "id": "ea2e3518-07b9-4c96-9031-eee53182d42f",
   "metadata": {},
   "outputs": [
    {
     "data": {
      "text/plain": [
       "['False',\n",
       " 'None',\n",
       " 'True',\n",
       " 'and',\n",
       " 'as',\n",
       " 'assert',\n",
       " 'async',\n",
       " 'await',\n",
       " 'break',\n",
       " 'class',\n",
       " 'continue',\n",
       " 'def',\n",
       " 'del',\n",
       " 'elif',\n",
       " 'else',\n",
       " 'except',\n",
       " 'finally',\n",
       " 'for',\n",
       " 'from',\n",
       " 'global',\n",
       " 'if',\n",
       " 'import',\n",
       " 'in',\n",
       " 'is',\n",
       " 'lambda',\n",
       " 'nonlocal',\n",
       " 'not',\n",
       " 'or',\n",
       " 'pass',\n",
       " 'raise',\n",
       " 'return',\n",
       " 'try',\n",
       " 'while',\n",
       " 'with',\n",
       " 'yield']"
      ]
     },
     "execution_count": 132,
     "metadata": {},
     "output_type": "execute_result"
    }
   ],
   "source": [
    "import keyword\n",
    "keyword.kwlist # these are the defined keywords in python "
   ]
  },
  {
   "cell_type": "code",
   "execution_count": 133,
   "id": "465e1d59-2dc2-43b0-bd79-708d75586bb2",
   "metadata": {},
   "outputs": [
    {
     "data": {
      "text/plain": [
       "35"
      ]
     },
     "execution_count": 133,
     "metadata": {},
     "output_type": "execute_result"
    }
   ],
   "source": [
    "len(keyword.kwlist) # to know the count of keywordlist \n",
    "                    # to know the lenth of anything in python we iuse len()"
   ]
  },
  {
   "cell_type": "code",
   "execution_count": 134,
   "id": "18814ff4-f4bc-46ae-a940-e0b1015e7456",
   "metadata": {},
   "outputs": [
    {
     "data": {
      "text/plain": [
       "'3.12.7 | packaged by Anaconda, Inc. | (main, Oct  4 2024, 13:17:27) [MSC v.1929 64 bit (AMD64)]'"
      ]
     },
     "execution_count": 134,
     "metadata": {},
     "output_type": "execute_result"
    }
   ],
   "source": [
    "import sys\n",
    "sys.version #to know the version of python"
   ]
  },
  {
   "cell_type": "code",
   "execution_count": 136,
   "id": "bc9ccc5d-e456-4094-b434-aaa4241396cd",
   "metadata": {},
   "outputs": [
    {
     "name": "stdout",
     "output_type": "stream",
     "text": [
      "10\n"
     ]
    }
   ],
   "source": [
    "a = 10\n",
    "print (a) #we use print function to run code "
   ]
  },
  {
   "cell_type": "code",
   "execution_count": 137,
   "id": "e25d78fc-624d-4b9a-8161-032de9623908",
   "metadata": {},
   "outputs": [
    {
     "name": "stdout",
     "output_type": "stream",
     "text": [
      "test\n"
     ]
    }
   ],
   "source": [
    "a =  'test'\n",
    "print(a)"
   ]
  },
  {
   "cell_type": "markdown",
   "id": "544bca16-0ae2-47cd-94e9-3cb59455462b",
   "metadata": {},
   "source": [
    "# PYTHON DATA TYPES\n",
    "- integer(int)\n",
    "- string(str)\n",
    "- float (float)\n",
    "- boolean (bool)\n",
    "- complex (complex)"
   ]
  },
  {
   "cell_type": "markdown",
   "id": "963e164a-66f0-41ae-b355-63db6cac3955",
   "metadata": {},
   "source": [
    "# INTEGER (int)"
   ]
  },
  {
   "cell_type": "code",
   "execution_count": 138,
   "id": "a36bbc30-c67e-4987-92a8-4bd7ce4b12d1",
   "metadata": {},
   "outputs": [
    {
     "data": {
      "text/plain": [
       "10"
      ]
     },
     "execution_count": 138,
     "metadata": {},
     "output_type": "execute_result"
    }
   ],
   "source": [
    "i = 10\n",
    "i"
   ]
  },
  {
   "cell_type": "code",
   "execution_count": 142,
   "id": "30c82ef7-25ab-4e8c-880c-1f17eecb611f",
   "metadata": {},
   "outputs": [
    {
     "name": "stdout",
     "output_type": "stream",
     "text": [
      "<class 'int'>\n"
     ]
    }
   ],
   "source": [
    "print(type(i))"
   ]
  },
  {
   "cell_type": "code",
   "execution_count": 143,
   "id": "8500b150-6f2b-437e-a1d3-e6fd78238bb4",
   "metadata": {},
   "outputs": [
    {
     "data": {
      "text/plain": [
       "'raju'"
      ]
     },
     "execution_count": 143,
     "metadata": {},
     "output_type": "execute_result"
    }
   ],
   "source": [
    "a = 'raju'\n",
    "a"
   ]
  },
  {
   "cell_type": "code",
   "execution_count": 144,
   "id": "1383cf3f-6e35-46d5-a195-b692dfbc01ea",
   "metadata": {},
   "outputs": [
    {
     "data": {
      "text/plain": [
       "str"
      ]
     },
     "execution_count": 144,
     "metadata": {},
     "output_type": "execute_result"
    }
   ],
   "source": [
    "type(a)\n"
   ]
  },
  {
   "cell_type": "code",
   "execution_count": 145,
   "id": "552d517c-9116-4895-873e-743a50e8a99e",
   "metadata": {},
   "outputs": [
    {
     "name": "stdout",
     "output_type": "stream",
     "text": [
      "4 6\n"
     ]
    }
   ],
   "source": [
    "b,c = 4,6\n",
    "print(b,c)"
   ]
  },
  {
   "cell_type": "code",
   "execution_count": 146,
   "id": "25740688-a141-4e1f-8f7e-f3f3457157aa",
   "metadata": {},
   "outputs": [
    {
     "ename": "TypeError",
     "evalue": "type() takes 1 or 3 arguments",
     "output_type": "error",
     "traceback": [
      "\u001b[1;31m---------------------------------------------------------------------------\u001b[0m",
      "\u001b[1;31mTypeError\u001b[0m                                 Traceback (most recent call last)",
      "Cell \u001b[1;32mIn[146], line 1\u001b[0m\n\u001b[1;32m----> 1\u001b[0m \u001b[38;5;28mprint\u001b[39m(\u001b[38;5;28mtype\u001b[39m(b,c))\n",
      "\u001b[1;31mTypeError\u001b[0m: type() takes 1 or 3 arguments"
     ]
    }
   ],
   "source": [
    "print(type(b,c))"
   ]
  },
  {
   "cell_type": "code",
   "execution_count": 147,
   "id": "770ccde2-2f43-4436-9126-9b0e89b73cdf",
   "metadata": {},
   "outputs": [
    {
     "name": "stdout",
     "output_type": "stream",
     "text": [
      "<class 'int'>\n"
     ]
    }
   ],
   "source": [
    "print(type(b))"
   ]
  },
  {
   "cell_type": "code",
   "execution_count": 148,
   "id": "7087c4ec-2e48-4a93-9248-3675dfb0dde2",
   "metadata": {},
   "outputs": [
    {
     "data": {
      "text/plain": [
       "int"
      ]
     },
     "execution_count": 148,
     "metadata": {},
     "output_type": "execute_result"
    }
   ],
   "source": [
    "type(c)"
   ]
  },
  {
   "cell_type": "markdown",
   "id": "634f2102-fbda-48b6-a48f-f31f53ce5192",
   "metadata": {},
   "source": [
    "# STRING (str)"
   ]
  },
  {
   "cell_type": "code",
   "execution_count": 149,
   "id": "29e14f6f-df77-4067-8ea2-418d90860706",
   "metadata": {},
   "outputs": [
    {
     "ename": "NameError",
     "evalue": "name 'name' is not defined",
     "output_type": "error",
     "traceback": [
      "\u001b[1;31m---------------------------------------------------------------------------\u001b[0m",
      "\u001b[1;31mNameError\u001b[0m                                 Traceback (most recent call last)",
      "Cell \u001b[1;32mIn[149], line 1\u001b[0m\n\u001b[1;32m----> 1\u001b[0m n \u001b[38;5;241m=\u001b[39m name\n",
      "\u001b[1;31mNameError\u001b[0m: name 'name' is not defined"
     ]
    }
   ],
   "source": [
    "n = name  "
   ]
  },
  {
   "cell_type": "code",
   "execution_count": 150,
   "id": "7c4559b6-49a4-4901-82e4-6d1fb4c19f4a",
   "metadata": {},
   "outputs": [],
   "source": [
    "n = 'name' # use quote string declaration"
   ]
  },
  {
   "cell_type": "code",
   "execution_count": 151,
   "id": "6e58132b-e8c5-40c5-bde0-c384325649e4",
   "metadata": {},
   "outputs": [
    {
     "data": {
      "text/plain": [
       "'name'"
      ]
     },
     "execution_count": 151,
     "metadata": {},
     "output_type": "execute_result"
    }
   ],
   "source": [
    "n"
   ]
  },
  {
   "cell_type": "code",
   "execution_count": 153,
   "id": "478a1e18-f197-4d43-b70b-b45aa005a3cf",
   "metadata": {},
   "outputs": [
    {
     "name": "stdout",
     "output_type": "stream",
     "text": [
      "name\n"
     ]
    }
   ],
   "source": [
    "print(n) # here we use print then output give without quots"
   ]
  },
  {
   "cell_type": "code",
   "execution_count": 155,
   "id": "0dd10638-d7d6-4874-994a-4db6f44c62e7",
   "metadata": {},
   "outputs": [
    {
     "data": {
      "text/plain": [
       "str"
      ]
     },
     "execution_count": 155,
     "metadata": {},
     "output_type": "execute_result"
    }
   ],
   "source": [
    "type(n)"
   ]
  },
  {
   "cell_type": "code",
   "execution_count": 156,
   "id": "a618fecf-1775-4d52-bf23-af1762490b49",
   "metadata": {},
   "outputs": [],
   "source": [
    "r = \"game\" # we use \"\" to string we can use for single line "
   ]
  },
  {
   "cell_type": "code",
   "execution_count": 157,
   "id": "63272efb-5302-4974-929f-5b02fd12178b",
   "metadata": {},
   "outputs": [
    {
     "data": {
      "text/plain": [
       "'game'"
      ]
     },
     "execution_count": 157,
     "metadata": {},
     "output_type": "execute_result"
    }
   ],
   "source": [
    "r"
   ]
  },
  {
   "cell_type": "code",
   "execution_count": 162,
   "id": "042fe8da-9845-47d6-add4-58f15d8220bc",
   "metadata": {},
   "outputs": [],
   "source": [
    "e =''' what is  \n",
    "your\n",
    "name'''  # we use it for multiple line code\n"
   ]
  },
  {
   "cell_type": "code",
   "execution_count": 163,
   "id": "07869ddd-6683-4087-b4bc-e6a32b8fc910",
   "metadata": {},
   "outputs": [
    {
     "data": {
      "text/plain": [
       "' what is  \\nyour\\nname'"
      ]
     },
     "execution_count": 163,
     "metadata": {},
     "output_type": "execute_result"
    }
   ],
   "source": [
    "e"
   ]
  },
  {
   "cell_type": "code",
   "execution_count": 164,
   "id": "c7ea86ad-55df-47b4-83fd-6ae1f24fa7da",
   "metadata": {},
   "outputs": [
    {
     "data": {
      "text/plain": [
       "str"
      ]
     },
     "execution_count": 164,
     "metadata": {},
     "output_type": "execute_result"
    }
   ],
   "source": [
    "type(e)"
   ]
  },
  {
   "cell_type": "code",
   "execution_count": 165,
   "id": "7d473221-cce7-4465-bb77-19bb6c325c64",
   "metadata": {},
   "outputs": [
    {
     "data": {
      "text/plain": [
       "' '"
      ]
     },
     "execution_count": 165,
     "metadata": {},
     "output_type": "execute_result"
    }
   ],
   "source": [
    "e [0]"
   ]
  },
  {
   "cell_type": "code",
   "execution_count": 166,
   "id": "2fab7309-4165-4c48-a63b-6d63bd1ce002",
   "metadata": {},
   "outputs": [
    {
     "data": {
      "text/plain": [
       "'a'"
      ]
     },
     "execution_count": 166,
     "metadata": {},
     "output_type": "execute_result"
    }
   ],
   "source": [
    "e[3]"
   ]
  },
  {
   "cell_type": "code",
   "execution_count": 167,
   "id": "9329a217-19b2-4a06-a05b-543eb0f8b3a0",
   "metadata": {},
   "outputs": [
    {
     "data": {
      "text/plain": [
       "'h'"
      ]
     },
     "execution_count": 167,
     "metadata": {},
     "output_type": "execute_result"
    }
   ],
   "source": [
    "e[2]"
   ]
  },
  {
   "cell_type": "code",
   "execution_count": 169,
   "id": "fde2aa18-1234-4834-8b69-0404e01d7a46",
   "metadata": {},
   "outputs": [
    {
     "data": {
      "text/plain": [
       "'w'"
      ]
     },
     "execution_count": 169,
     "metadata": {},
     "output_type": "execute_result"
    }
   ],
   "source": [
    "e[1] # we use [] to get the char by index"
   ]
  },
  {
   "cell_type": "code",
   "execution_count": 170,
   "id": "6444885a-9dad-43cb-a10b-cfa8fddbd0ea",
   "metadata": {},
   "outputs": [
    {
     "data": {
      "text/plain": [
       "'m'"
      ]
     },
     "execution_count": 170,
     "metadata": {},
     "output_type": "execute_result"
    }
   ],
   "source": [
    "e[-2]"
   ]
  },
  {
   "cell_type": "code",
   "execution_count": 173,
   "id": "976471ab-6644-41b6-9847-aa94a0a3cace",
   "metadata": {},
   "outputs": [
    {
     "data": {
      "text/plain": [
       "'hat is  \\nyour\\nname'"
      ]
     },
     "execution_count": 173,
     "metadata": {},
     "output_type": "execute_result"
    }
   ],
   "source": [
    "e [2:] #[:] we use this for slicing "
   ]
  },
  {
   "cell_type": "code",
   "execution_count": 174,
   "id": "bf575952-395f-42de-8128-5d8dfab0bef7",
   "metadata": {},
   "outputs": [
    {
     "data": {
      "text/plain": [
       "'hat '"
      ]
     },
     "execution_count": 174,
     "metadata": {},
     "output_type": "execute_result"
    }
   ],
   "source": [
    "e[2:6]"
   ]
  },
  {
   "cell_type": "markdown",
   "id": "c3b6277d-3c7a-4fbe-aaf7-634207e4482f",
   "metadata": {},
   "source": [
    "# float"
   ]
  },
  {
   "cell_type": "code",
   "execution_count": 175,
   "id": "4ae83952-3564-4585-959a-cbea426538bf",
   "metadata": {},
   "outputs": [
    {
     "data": {
      "text/plain": [
       "5.1"
      ]
     },
     "execution_count": 175,
     "metadata": {},
     "output_type": "execute_result"
    }
   ],
   "source": [
    "run = 5.1\n",
    "run"
   ]
  },
  {
   "cell_type": "code",
   "execution_count": 176,
   "id": "152354f6-72db-4698-8886-35a1d000a224",
   "metadata": {},
   "outputs": [
    {
     "data": {
      "text/plain": [
       "float"
      ]
     },
     "execution_count": 176,
     "metadata": {},
     "output_type": "execute_result"
    }
   ],
   "source": [
    "type(run)"
   ]
  },
  {
   "cell_type": "code",
   "execution_count": 177,
   "id": "ef1752d4-4898-499a-883d-59c13d2fd097",
   "metadata": {},
   "outputs": [
    {
     "data": {
      "text/plain": [
       "10.23"
      ]
     },
     "execution_count": 177,
     "metadata": {},
     "output_type": "execute_result"
    }
   ],
   "source": [
    "10.23"
   ]
  },
  {
   "cell_type": "code",
   "execution_count": 178,
   "id": "78d7fdfe-6631-41e1-969b-b5563cde949b",
   "metadata": {},
   "outputs": [
    {
     "data": {
      "text/plain": [
       "float"
      ]
     },
     "execution_count": 178,
     "metadata": {},
     "output_type": "execute_result"
    }
   ],
   "source": [
    "type(10.23)"
   ]
  },
  {
   "cell_type": "markdown",
   "id": "6d4d3051-7ed4-4a24-869b-c44a71ec1236",
   "metadata": {},
   "source": [
    "# boolean"
   ]
  },
  {
   "cell_type": "code",
   "execution_count": 180,
   "id": "2a1a1912-b3dd-4ab0-bf56-b70c6f6a6287",
   "metadata": {},
   "outputs": [
    {
     "ename": "NameError",
     "evalue": "name 'true' is not defined",
     "output_type": "error",
     "traceback": [
      "\u001b[1;31m---------------------------------------------------------------------------\u001b[0m",
      "\u001b[1;31mNameError\u001b[0m                                 Traceback (most recent call last)",
      "Cell \u001b[1;32mIn[180], line 1\u001b[0m\n\u001b[1;32m----> 1\u001b[0m true\n",
      "\u001b[1;31mNameError\u001b[0m: name 'true' is not defined"
     ]
    }
   ],
   "source": [
    "true  #boolean is a case sensitive "
   ]
  },
  {
   "cell_type": "code",
   "execution_count": 181,
   "id": "5467ddb0-c9b4-4eb5-a8cd-0b265c038688",
   "metadata": {},
   "outputs": [
    {
     "data": {
      "text/plain": [
       "True"
      ]
     },
     "execution_count": 181,
     "metadata": {},
     "output_type": "execute_result"
    }
   ],
   "source": [
    "True # here the T was capital"
   ]
  },
  {
   "cell_type": "code",
   "execution_count": 182,
   "id": "dc5453ec-fcb8-417d-9567-3213eccd30ac",
   "metadata": {},
   "outputs": [
    {
     "data": {
      "text/plain": [
       "False"
      ]
     },
     "execution_count": 182,
     "metadata": {},
     "output_type": "execute_result"
    }
   ],
   "source": [
    "False # here the F capital"
   ]
  },
  {
   "cell_type": "code",
   "execution_count": 184,
   "id": "f05f78ef-d58b-4a71-9a84-17831297e64d",
   "metadata": {},
   "outputs": [
    {
     "data": {
      "text/plain": [
       "True"
      ]
     },
     "execution_count": 184,
     "metadata": {},
     "output_type": "execute_result"
    }
   ],
   "source": [
    "k = True\n",
    "k"
   ]
  },
  {
   "cell_type": "code",
   "execution_count": 185,
   "id": "2da7cbe6-97d4-4c5e-bcdc-7bf807504900",
   "metadata": {},
   "outputs": [
    {
     "data": {
      "text/plain": [
       "bool"
      ]
     },
     "execution_count": 185,
     "metadata": {},
     "output_type": "execute_result"
    }
   ],
   "source": [
    "type(k)"
   ]
  },
  {
   "cell_type": "markdown",
   "id": "67fbaecc-3705-4775-9b2f-b6564e767c04",
   "metadata": {},
   "source": [
    "# COMPLEX DATA TYPE"
   ]
  },
  {
   "cell_type": "code",
   "execution_count": 186,
   "id": "bf148f10-f495-4e25-a7d5-eb05e92ab1fb",
   "metadata": {},
   "outputs": [
    {
     "data": {
      "text/plain": [
       "(1+2j)"
      ]
     },
     "execution_count": 186,
     "metadata": {},
     "output_type": "execute_result"
    }
   ],
   "source": [
    "a1 = 1+2j\n",
    "a1"
   ]
  },
  {
   "cell_type": "code",
   "execution_count": 187,
   "id": "0138483c-c80b-444c-bc89-3520d36a8336",
   "metadata": {},
   "outputs": [
    {
     "data": {
      "text/plain": [
       "complex"
      ]
     },
     "execution_count": 187,
     "metadata": {},
     "output_type": "execute_result"
    }
   ],
   "source": [
    "type(a1)"
   ]
  },
  {
   "cell_type": "code",
   "execution_count": 188,
   "id": "46958c42-4d3a-405b-951b-d6f3b9e74e1b",
   "metadata": {},
   "outputs": [
    {
     "name": "stdout",
     "output_type": "stream",
     "text": [
      "1.0\n"
     ]
    }
   ],
   "source": [
    "print(a1.real)"
   ]
  },
  {
   "cell_type": "code",
   "execution_count": 190,
   "id": "64f68267-0eaa-47db-ad1b-d60bf924b8bb",
   "metadata": {},
   "outputs": [
    {
     "name": "stdout",
     "output_type": "stream",
     "text": [
      "2.0\n"
     ]
    }
   ],
   "source": [
    "print(a1.imag)"
   ]
  },
  {
   "cell_type": "markdown",
   "id": "7f9dacf1-387e-47fc-8ac2-fd8edd098eea",
   "metadata": {},
   "source": [
    "# type casting or type conversion"
   ]
  },
  {
   "cell_type": "code",
   "execution_count": 191,
   "id": "2b62de58-5157-4fd7-a138-0711dc69d400",
   "metadata": {},
   "outputs": [
    {
     "ename": "TypeError",
     "evalue": "int() can't convert non-string with explicit base",
     "output_type": "error",
     "traceback": [
      "\u001b[1;31m---------------------------------------------------------------------------\u001b[0m",
      "\u001b[1;31mTypeError\u001b[0m                                 Traceback (most recent call last)",
      "Cell \u001b[1;32mIn[191], line 1\u001b[0m\n\u001b[1;32m----> 1\u001b[0m \u001b[38;5;28mint\u001b[39m(\u001b[38;5;28;01mTrue\u001b[39;00m,\u001b[38;5;28;01mFalse\u001b[39;00m)\n",
      "\u001b[1;31mTypeError\u001b[0m: int() can't convert non-string with explicit base"
     ]
    }
   ],
   "source": [
    "int(True,False) #only one argument is allowed"
   ]
  },
  {
   "cell_type": "code",
   "execution_count": 192,
   "id": "31d42e9b-b493-48fd-b55f-271fd8d2f0f7",
   "metadata": {},
   "outputs": [
    {
     "name": "stdout",
     "output_type": "stream",
     "text": [
      "20\n"
     ]
    }
   ],
   "source": [
    "print(int('20'))"
   ]
  },
  {
   "cell_type": "code",
   "execution_count": 193,
   "id": "e967ef18-5ec4-4526-8060-4f6729dd3641",
   "metadata": {},
   "outputs": [
    {
     "name": "stdout",
     "output_type": "stream",
     "text": [
      "1\n"
     ]
    }
   ],
   "source": [
    "print(int(True))"
   ]
  },
  {
   "cell_type": "code",
   "execution_count": 194,
   "id": "8ab4ac42-7cf8-49bc-8cd8-437361a32b30",
   "metadata": {},
   "outputs": [
    {
     "name": "stdout",
     "output_type": "stream",
     "text": [
      "0\n"
     ]
    }
   ],
   "source": [
    "print(int(False))"
   ]
  },
  {
   "cell_type": "code",
   "execution_count": 195,
   "id": "0539939c-7adb-4fd6-b319-005dc5622e61",
   "metadata": {},
   "outputs": [
    {
     "name": "stdout",
     "output_type": "stream",
     "text": [
      "10\n"
     ]
    }
   ],
   "source": [
    "print(int(10))"
   ]
  },
  {
   "cell_type": "code",
   "execution_count": 196,
   "id": "ec395a23-8367-476e-b3d5-be24573b1146",
   "metadata": {},
   "outputs": [
    {
     "name": "stdout",
     "output_type": "stream",
     "text": [
      "True\n"
     ]
    }
   ],
   "source": [
    "print(bool(10))"
   ]
  },
  {
   "cell_type": "code",
   "execution_count": 197,
   "id": "c1ce6bf3-d5d2-46d5-963a-4d0315082b8b",
   "metadata": {},
   "outputs": [
    {
     "name": "stdout",
     "output_type": "stream",
     "text": [
      "True\n"
     ]
    }
   ],
   "source": [
    "print(bool('20'))"
   ]
  },
  {
   "cell_type": "code",
   "execution_count": 198,
   "id": "434662b2-4b2e-4d4d-899e-38d3d7a75e91",
   "metadata": {},
   "outputs": [
    {
     "name": "stdout",
     "output_type": "stream",
     "text": [
      "True\n"
     ]
    }
   ],
   "source": [
    "print(bool(1+2j))"
   ]
  },
  {
   "cell_type": "code",
   "execution_count": 199,
   "id": "28e9031b-1d54-4854-b11e-220fb6f6ca5c",
   "metadata": {},
   "outputs": [
    {
     "name": "stdout",
     "output_type": "stream",
     "text": [
      "True\n"
     ]
    }
   ],
   "source": [
    "print(bool(10.5))"
   ]
  },
  {
   "cell_type": "code",
   "execution_count": 200,
   "id": "b5d749ed-fdc7-4448-9ccd-90ebf2c27500",
   "metadata": {},
   "outputs": [
    {
     "name": "stdout",
     "output_type": "stream",
     "text": [
      "False\n"
     ]
    }
   ],
   "source": [
    "print(bool(True == False))"
   ]
  },
  {
   "cell_type": "code",
   "execution_count": 201,
   "id": "9fecfaa2-033c-4034-b6b8-9781bc1e615f",
   "metadata": {},
   "outputs": [
    {
     "name": "stdout",
     "output_type": "stream",
     "text": [
      "10\n"
     ]
    }
   ],
   "source": [
    "print(str(10))"
   ]
  },
  {
   "cell_type": "code",
   "execution_count": 202,
   "id": "8c2f956c-c974-4bae-8909-471adda17cc1",
   "metadata": {},
   "outputs": [
    {
     "name": "stdout",
     "output_type": "stream",
     "text": [
      "20\n"
     ]
    }
   ],
   "source": [
    "print(str('20'))"
   ]
  },
  {
   "cell_type": "code",
   "execution_count": 203,
   "id": "e0bd1d4c-6ab3-4825-ac9b-2f842a6f3e2b",
   "metadata": {},
   "outputs": [
    {
     "name": "stdout",
     "output_type": "stream",
     "text": [
      "10.4\n"
     ]
    }
   ],
   "source": [
    "print(str(10.4))"
   ]
  },
  {
   "cell_type": "code",
   "execution_count": 204,
   "id": "7114d80e-f23e-4ed8-950b-b867081190b0",
   "metadata": {},
   "outputs": [
    {
     "name": "stdout",
     "output_type": "stream",
     "text": [
      "True\n"
     ]
    }
   ],
   "source": [
    "print(str(True))"
   ]
  },
  {
   "cell_type": "code",
   "execution_count": 205,
   "id": "7bb7494c-6531-4978-a3f7-061a16e69b5e",
   "metadata": {},
   "outputs": [
    {
     "name": "stdout",
     "output_type": "stream",
     "text": [
      "False\n"
     ]
    }
   ],
   "source": [
    "print(str(False))"
   ]
  },
  {
   "cell_type": "code",
   "execution_count": 206,
   "id": "03a462be-065e-4789-b768-5377c2aa4a13",
   "metadata": {},
   "outputs": [
    {
     "name": "stdout",
     "output_type": "stream",
     "text": [
      "(1+2j)\n"
     ]
    }
   ],
   "source": [
    "print(str(1+2j))"
   ]
  },
  {
   "cell_type": "code",
   "execution_count": null,
   "id": "3c9ffa08-1b9f-485d-90fe-f7907dc5391c",
   "metadata": {},
   "outputs": [],
   "source": []
  }
 ],
 "metadata": {
  "kernelspec": {
   "display_name": "Python 3 (ipykernel)",
   "language": "python",
   "name": "python3"
  },
  "language_info": {
   "codemirror_mode": {
    "name": "ipython",
    "version": 3
   },
   "file_extension": ".py",
   "mimetype": "text/x-python",
   "name": "python",
   "nbconvert_exporter": "python",
   "pygments_lexer": "ipython3",
   "version": "3.12.7"
  }
 },
 "nbformat": 4,
 "nbformat_minor": 5
}
